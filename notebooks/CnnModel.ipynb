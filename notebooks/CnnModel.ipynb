{
 "cells": [
  {
   "cell_type": "code",
   "execution_count": 86,
   "metadata": {
    "_cell_guid": "b1076dfc-b9ad-4769-8c92-a6c4dae69d19",
    "_uuid": "8f2839f25d086af736a60e9eeb907d3b93b6e0e5",
    "execution": {
     "iopub.execute_input": "2025-09-16T20:54:51.912949Z",
     "iopub.status.busy": "2025-09-16T20:54:51.912604Z",
     "iopub.status.idle": "2025-09-16T20:54:51.919535Z",
     "shell.execute_reply": "2025-09-16T20:54:51.918476Z",
     "shell.execute_reply.started": "2025-09-16T20:54:51.912903Z"
    },
    "trusted": true
   },
   "outputs": [],
   "source": [
    "import numpy as np\n",
    "import os\n",
    "import pandas as pd\n",
    "from sklearn.metrics import confusion_matrix , classification_report\n",
    "from sklearn.model_selection import train_test_split\n",
    "import seaborn as sns\n",
    "from sklearn.utils import shuffle           \n",
    "import matplotlib.pyplot as plt             \n",
    "import cv2                                 \n",
    "import tensorflow as tf    \n",
    "import keras\n",
    "from tqdm import tqdm\n",
    "import warnings\n",
    "warnings.filterwarnings(\"ignore\")   "
   ]
  },
  {
   "cell_type": "code",
   "execution_count": null,
   "metadata": {
    "execution": {
     "iopub.execute_input": "2025-09-16T20:55:17.091010Z",
     "iopub.status.busy": "2025-09-16T20:55:17.090665Z",
     "iopub.status.idle": "2025-09-16T20:55:17.146705Z",
     "shell.execute_reply": "2025-09-16T20:55:17.145424Z",
     "shell.execute_reply.started": "2025-09-16T20:55:17.090985Z"
    },
    "trusted": true
   },
   "outputs": [
    {
     "name": "stdout",
     "output_type": "stream",
     "text": [
      "Number of classes: 43\n",
      "Class 2 means: Speed limit (60km/h)\n"
     ]
    }
   ],
   "source": [
    "data_dir = \"../data/archive\"\n",
    "\n",
    "# Load the training CSV file\n",
    "train_csv = pd.read_csv(os.path.join(data_dir, \"Train.csv\"))\n",
    "\n",
    "# Number of unique classes (should be 43)\n",
    "nb_classes = train_csv[\"ClassId\"].nunique()\n",
    "print(\"Number of classes:\", nb_classes)\n",
    "\n",
    "classes = {\n",
    "    0:'Speed limit (20km/h)', 1:'Speed limit (30km/h)', 2:'Speed limit (50km/h)',\n",
    "    3:'Speed limit (60km/h)', 4:'Speed limit (70km/h)', 5:'Speed limit (80km/h)',\n",
    "    6:'End of speed limit (80km/h)', 7:'Speed limit (100km/h)', 8:'Speed limit (120km/h)',\n",
    "    9:'No passing', 10:'No passing veh over 3.5 tons', 11:'Right-of-way at intersection',\n",
    "    12:'Priority road', 13:'Yield', 14:'Stop', 15:'No vehicles', 16:'Veh > 3.5 tons prohibited',\n",
    "    17:'No entry', 18:'General caution', 19:'Dangerous curve left', 20:'Dangerous curve right',\n",
    "    21:'Double curve', 22:'Bumpy road', 23:'Slippery road', 24:'Road narrows on the right',\n",
    "    25:'Road work', 26:'Traffic signals', 27:'Pedestrians', 28:'Children crossing',\n",
    "    29:'Bicycles crossing', 30:'Beware of ice/snow', 31:'Wild animals crossing',\n",
    "    32:'End speed + passing limits', 33:'Turn right ahead', 34:'Turn left ahead',\n",
    "    35:'Ahead only', 36:'Go straight or right', 37:'Go straight or left', 38:'Keep right',\n",
    "    39:'Keep left', 40:'Roundabout mandatory', 41:'End of no passing', 42:'End no passing veh > 3.5 tons'\n",
    "}\n",
    "\n",
    "# Create a mapping: classid -> class name\n",
    "class_names_label = classes\n",
    "\n",
    "# Example lookup\n",
    "print(\"Class 2 means:\", class_names_label[3])"
   ]
  },
  {
   "cell_type": "code",
   "execution_count": 92,
   "metadata": {
    "execution": {
     "iopub.execute_input": "2025-09-16T20:55:19.612713Z",
     "iopub.status.busy": "2025-09-16T20:55:19.612306Z",
     "iopub.status.idle": "2025-09-16T20:57:54.940224Z",
     "shell.execute_reply": "2025-09-16T20:57:54.938874Z",
     "shell.execute_reply.started": "2025-09-16T20:55:19.612690Z"
    },
    "trusted": true
   },
   "outputs": [
    {
     "name": "stderr",
     "output_type": "stream",
     "text": [
      "100%|██████████| 39209/39209 [01:57<00:00, 333.69it/s]\n",
      "100%|██████████| 12630/12630 [00:36<00:00, 344.91it/s]\n"
     ]
    }
   ],
   "source": [
    "IMAGE_SIZE = (64, 64)\n",
    "def load_data(df, base_dir):\n",
    "    images = []\n",
    "    labels = []\n",
    "\n",
    "    for i, row in tqdm(df.iterrows(), total=len(df)):\n",
    "        img_path = os.path.join(base_dir, row[\"Path\"])\n",
    "        label = row[\"ClassId\"]\n",
    "\n",
    "        image = cv2.imread(img_path)\n",
    "        image = cv2.cvtColor(image, cv2.COLOR_BGR2RGB)\n",
    "        image = cv2.resize(image, IMAGE_SIZE)\n",
    "\n",
    "        # Normalization\n",
    "        image = image.astype(\"float32\") / 255.0\n",
    "\n",
    "        images.append(image)\n",
    "        labels.append(label)\n",
    "\n",
    "    images = np.array(images, dtype=\"float32\")\n",
    "    labels = np.array(labels, dtype=\"int32\")\n",
    "    return images, labels\n",
    "\n",
    "\n",
    "# load\n",
    "test_csv  = pd.read_csv(os.path.join(data_dir, \"Test.csv\"))\n",
    "\n",
    "train_images, train_labels = load_data(train_csv, data_dir)\n",
    "test_images, test_labels = load_data(test_csv, data_dir)"
   ]
  },
  {
   "cell_type": "code",
   "execution_count": 93,
   "metadata": {
    "execution": {
     "iopub.execute_input": "2025-09-16T20:58:13.433229Z",
     "iopub.status.busy": "2025-09-16T20:58:13.432790Z",
     "iopub.status.idle": "2025-09-16T20:58:14.362898Z",
     "shell.execute_reply": "2025-09-16T20:58:14.361691Z",
     "shell.execute_reply.started": "2025-09-16T20:58:13.433193Z"
    },
    "trusted": true
   },
   "outputs": [],
   "source": [
    "train_images, train_labels = shuffle(train_images, train_labels, random_state=25)\n",
    "test_images, test_labels = shuffle(test_images, test_labels, random_state=25)"
   ]
  },
  {
   "cell_type": "code",
   "execution_count": 94,
   "metadata": {
    "execution": {
     "iopub.execute_input": "2025-09-16T20:58:16.540094Z",
     "iopub.status.busy": "2025-09-16T20:58:16.539763Z",
     "iopub.status.idle": "2025-09-16T20:58:16.546949Z",
     "shell.execute_reply": "2025-09-16T20:58:16.545656Z",
     "shell.execute_reply.started": "2025-09-16T20:58:16.540069Z"
    },
    "trusted": true
   },
   "outputs": [
    {
     "name": "stdout",
     "output_type": "stream",
     "text": [
      "Number of training examples: 39209\n",
      "Number of testing examples: 12630\n",
      "Each image is of size: (64, 64)\n"
     ]
    }
   ],
   "source": [
    "n_train = train_labels.shape[0]\n",
    "n_test = test_labels.shape[0]\n",
    "\n",
    "print(\"Number of training examples:\", n_train)\n",
    "print(\"Number of testing examples:\", n_test)\n",
    "print(\"Each image is of size:\", IMAGE_SIZE)"
   ]
  },
  {
   "cell_type": "code",
   "execution_count": 95,
   "metadata": {
    "execution": {
     "iopub.execute_input": "2025-09-16T20:58:19.397653Z",
     "iopub.status.busy": "2025-09-16T20:58:19.397298Z",
     "iopub.status.idle": "2025-09-16T20:58:21.595221Z",
     "shell.execute_reply": "2025-09-16T20:58:21.593985Z",
     "shell.execute_reply.started": "2025-09-16T20:58:19.397628Z"
    },
    "trusted": true
   },
   "outputs": [],
   "source": [
    "X_train, X_val, y_train, y_val = train_test_split(\n",
    "    train_images, train_labels, test_size=0.15, random_state=44, stratify=train_labels\n",
    ")\n",
    "X_test,y_test = (train_images, train_labels)\n",
    "\n",
    "# normalize\n",
    "X_train = X_train / 255.0\n",
    "X_val = X_val / 255.0\n",
    "X_test = X_test/255.0"
   ]
  },
  {
   "cell_type": "code",
   "execution_count": 109,
   "metadata": {
    "execution": {
     "iopub.execute_input": "2025-09-16T21:41:56.980128Z",
     "iopub.status.busy": "2025-09-16T21:41:56.979725Z",
     "iopub.status.idle": "2025-09-16T21:41:57.085117Z",
     "shell.execute_reply": "2025-09-16T21:41:57.083966Z",
     "shell.execute_reply.started": "2025-09-16T21:41:56.980099Z"
    },
    "trusted": true
   },
   "outputs": [],
   "source": [
    "model = tf.keras.Sequential(\n",
    "    [\n",
    "        tf.keras.layers.Conv2D(\n",
    "            32, (3, 3), activation=\"relu\", input_shape=(64, 64, 3)\n",
    "        ),\n",
    "        tf.keras.layers.MaxPooling2D(2, 2),\n",
    "        tf.keras.layers.Conv2D(64, (3, 3), activation=\"relu\"),\n",
    "        tf.keras.layers.Dropout(rate=0.15),\n",
    "        tf.keras.layers.MaxPooling2D(2, 2),\n",
    "        tf.keras.layers.Conv2D(128, (3, 3), activation=\"relu\"),\n",
    "        tf.keras.layers.Conv2D(256, (3, 3), activation=\"relu\"),\n",
    "        tf.keras.layers.MaxPooling2D(2, 2),\n",
    "        tf.keras.layers.Dropout(rate=0.2),\n",
    "        tf.keras.layers.Flatten(),\n",
    "        tf.keras.layers.Dense(512, activation=\"relu\"),\n",
    "        tf.keras.layers.Dropout(rate=0.25),\n",
    "        tf.keras.layers.Dense(43, activation=\"softmax\", dtype=\"float32\"),\n",
    "    ]\n",
    ")\n"
   ]
  },
  {
   "cell_type": "code",
   "execution_count": 112,
   "metadata": {
    "execution": {
     "iopub.execute_input": "2025-09-16T21:44:21.693634Z",
     "iopub.status.busy": "2025-09-16T21:44:21.693284Z",
     "iopub.status.idle": "2025-09-16T21:44:21.706750Z",
     "shell.execute_reply": "2025-09-16T21:44:21.705423Z",
     "shell.execute_reply.started": "2025-09-16T21:44:21.693610Z"
    },
    "trusted": true
   },
   "outputs": [],
   "source": [
    "model.compile(optimizer=\"adam\", loss=\"sparse_categorical_crossentropy\", metrics=[\"accuracy\"])"
   ]
  },
  {
   "cell_type": "code",
   "execution_count": 100,
   "metadata": {
    "execution": {
     "iopub.execute_input": "2025-09-16T20:59:10.918699Z",
     "iopub.status.busy": "2025-09-16T20:59:10.918356Z",
     "iopub.status.idle": "2025-09-16T21:34:21.637929Z",
     "shell.execute_reply": "2025-09-16T21:34:21.635468Z",
     "shell.execute_reply.started": "2025-09-16T20:59:10.918675Z"
    },
    "trusted": true
   },
   "outputs": [
    {
     "name": "stdout",
     "output_type": "stream",
     "text": [
      "Epoch 1/20\n",
      "\u001b[1m334/334\u001b[0m \u001b[32m━━━━━━━━━━━━━━━━━━━━\u001b[0m\u001b[37m\u001b[0m \u001b[1m105s\u001b[0m 313ms/step - accuracy: 0.7361 - loss: 1.0086 - val_accuracy: 0.8072 - val_loss: 0.6938\n",
      "Epoch 2/20\n",
      "\u001b[1m334/334\u001b[0m \u001b[32m━━━━━━━━━━━━━━━━━━━━\u001b[0m\u001b[37m\u001b[0m \u001b[1m142s\u001b[0m 312ms/step - accuracy: 0.8347 - loss: 0.6042 - val_accuracy: 0.8720 - val_loss: 0.4823\n",
      "Epoch 3/20\n",
      "\u001b[1m334/334\u001b[0m \u001b[32m━━━━━━━━━━━━━━━━━━━━\u001b[0m\u001b[37m\u001b[0m \u001b[1m109s\u001b[0m 325ms/step - accuracy: 0.8664 - loss: 0.4906 - val_accuracy: 0.8739 - val_loss: 0.4464\n",
      "Epoch 4/20\n",
      "\u001b[1m334/334\u001b[0m \u001b[32m━━━━━━━━━━━━━━━━━━━━\u001b[0m\u001b[37m\u001b[0m \u001b[1m108s\u001b[0m 325ms/step - accuracy: 0.8832 - loss: 0.4261 - val_accuracy: 0.8920 - val_loss: 0.3815\n",
      "Epoch 5/20\n",
      "\u001b[1m334/334\u001b[0m \u001b[32m━━━━━━━━━━━━━━━━━━━━\u001b[0m\u001b[37m\u001b[0m \u001b[1m101s\u001b[0m 302ms/step - accuracy: 0.9047 - loss: 0.3656 - val_accuracy: 0.9113 - val_loss: 0.3325\n",
      "Epoch 6/20\n",
      "\u001b[1m334/334\u001b[0m \u001b[32m━━━━━━━━━━━━━━━━━━━━\u001b[0m\u001b[37m\u001b[0m \u001b[1m98s\u001b[0m 294ms/step - accuracy: 0.9121 - loss: 0.3292 - val_accuracy: 0.9043 - val_loss: 0.3460\n",
      "Epoch 7/20\n",
      "\u001b[1m334/334\u001b[0m \u001b[32m━━━━━━━━━━━━━━━━━━━━\u001b[0m\u001b[37m\u001b[0m \u001b[1m102s\u001b[0m 305ms/step - accuracy: 0.9171 - loss: 0.3071 - val_accuracy: 0.9080 - val_loss: 0.3274\n",
      "Epoch 8/20\n",
      "\u001b[1m334/334\u001b[0m \u001b[32m━━━━━━━━━━━━━━━━━━━━\u001b[0m\u001b[37m\u001b[0m \u001b[1m107s\u001b[0m 320ms/step - accuracy: 0.9229 - loss: 0.2855 - val_accuracy: 0.9164 - val_loss: 0.2978\n",
      "Epoch 9/20\n",
      "\u001b[1m334/334\u001b[0m \u001b[32m━━━━━━━━━━━━━━━━━━━━\u001b[0m\u001b[37m\u001b[0m \u001b[1m103s\u001b[0m 308ms/step - accuracy: 0.9338 - loss: 0.2506 - val_accuracy: 0.9352 - val_loss: 0.2567\n",
      "Epoch 10/20\n",
      "\u001b[1m334/334\u001b[0m \u001b[32m━━━━━━━━━━━━━━━━━━━━\u001b[0m\u001b[37m\u001b[0m \u001b[1m102s\u001b[0m 305ms/step - accuracy: 0.9398 - loss: 0.2367 - val_accuracy: 0.9187 - val_loss: 0.3029\n",
      "Epoch 11/20\n",
      "\u001b[1m334/334\u001b[0m \u001b[32m━━━━━━━━━━━━━━━━━━━━\u001b[0m\u001b[37m\u001b[0m \u001b[1m102s\u001b[0m 305ms/step - accuracy: 0.9396 - loss: 0.2311 - val_accuracy: 0.9267 - val_loss: 0.2555\n",
      "Epoch 12/20\n",
      "\u001b[1m334/334\u001b[0m \u001b[32m━━━━━━━━━━━━━━━━━━━━\u001b[0m\u001b[37m\u001b[0m \u001b[1m107s\u001b[0m 322ms/step - accuracy: 0.9463 - loss: 0.2031 - val_accuracy: 0.9281 - val_loss: 0.2598\n",
      "Epoch 13/20\n",
      "\u001b[1m334/334\u001b[0m \u001b[32m━━━━━━━━━━━━━━━━━━━━\u001b[0m\u001b[37m\u001b[0m \u001b[1m104s\u001b[0m 313ms/step - accuracy: 0.9518 - loss: 0.1803 - val_accuracy: 0.9442 - val_loss: 0.2203\n",
      "Epoch 14/20\n",
      "\u001b[1m334/334\u001b[0m \u001b[32m━━━━━━━━━━━━━━━━━━━━\u001b[0m\u001b[37m\u001b[0m \u001b[1m102s\u001b[0m 306ms/step - accuracy: 0.9558 - loss: 0.1777 - val_accuracy: 0.9532 - val_loss: 0.1966\n",
      "Epoch 15/20\n",
      "\u001b[1m334/334\u001b[0m \u001b[32m━━━━━━━━━━━━━━━━━━━━\u001b[0m\u001b[37m\u001b[0m \u001b[1m102s\u001b[0m 307ms/step - accuracy: 0.9625 - loss: 0.1511 - val_accuracy: 0.9480 - val_loss: 0.1960\n",
      "Epoch 16/20\n",
      "\u001b[1m334/334\u001b[0m \u001b[32m━━━━━━━━━━━━━━━━━━━━\u001b[0m\u001b[37m\u001b[0m \u001b[1m99s\u001b[0m 296ms/step - accuracy: 0.9583 - loss: 0.1594 - val_accuracy: 0.9347 - val_loss: 0.2298\n",
      "Epoch 17/20\n",
      "\u001b[1m334/334\u001b[0m \u001b[32m━━━━━━━━━━━━━━━━━━━━\u001b[0m\u001b[37m\u001b[0m \u001b[1m102s\u001b[0m 306ms/step - accuracy: 0.9605 - loss: 0.1454 - val_accuracy: 0.9548 - val_loss: 0.1891\n",
      "Epoch 18/20\n",
      "\u001b[1m334/334\u001b[0m \u001b[32m━━━━━━━━━━━━━━━━━━━━\u001b[0m\u001b[37m\u001b[0m \u001b[1m106s\u001b[0m 317ms/step - accuracy: 0.9642 - loss: 0.1374 - val_accuracy: 0.9614 - val_loss: 0.1640\n",
      "Epoch 19/20\n",
      "\u001b[1m334/334\u001b[0m \u001b[32m━━━━━━━━━━━━━━━━━━━━\u001b[0m\u001b[37m\u001b[0m \u001b[1m100s\u001b[0m 300ms/step - accuracy: 0.9663 - loss: 0.1303 - val_accuracy: 0.9500 - val_loss: 0.1984\n",
      "Epoch 20/20\n",
      "\u001b[1m334/334\u001b[0m \u001b[32m━━━━━━━━━━━━━━━━━━━━\u001b[0m\u001b[37m\u001b[0m \u001b[1m105s\u001b[0m 314ms/step - accuracy: 0.9688 - loss: 0.1233 - val_accuracy: 0.9604 - val_loss: 0.1638\n"
     ]
    }
   ],
   "source": [
    "history = model.fit(\n",
    "    X_train,\n",
    "    y_train,\n",
    "    batch_size = 100,\n",
    "    epochs = 20,\n",
    "    validation_data=(X_val, y_val),\n",
    "    verbose=1,\n",
    ")"
   ]
  },
  {
   "cell_type": "code",
   "execution_count": 101,
   "metadata": {
    "execution": {
     "iopub.execute_input": "2025-09-16T21:34:29.345772Z",
     "iopub.status.busy": "2025-09-16T21:34:29.345208Z",
     "iopub.status.idle": "2025-09-16T21:34:29.890947Z",
     "shell.execute_reply": "2025-09-16T21:34:29.889809Z",
     "shell.execute_reply.started": "2025-09-16T21:34:29.345701Z"
    },
    "trusted": true
   },
   "outputs": [
    {
     "data": {
      "image/png": "[encoded data removed]",
      "text/plain": [
       "<Figure size 1200x500 with 2 Axes>"
      ]
     },
     "metadata": {},
     "output_type": "display_data"
    }
   ],
   "source": [
    "def plot_accuracy_loss(history):\n",
    "    \"\"\"\n",
    "    Plot the accuracy and the loss during the training of the nn.\n",
    "    \"\"\"\n",
    "    fig = plt.figure(figsize=(12,5))\n",
    "\n",
    "    # Plot accuracy\n",
    "    plt.subplot(1,2,1)\n",
    "    plt.plot(history.history['accuracy'], 'bo--', label='train_accuracy')\n",
    "    plt.plot(history.history['val_accuracy'], 'ro--', label='val_accuracy')\n",
    "    plt.title(\"Train vs Validation Accuracy\")\n",
    "    plt.ylabel(\"Accuracy\")\n",
    "    plt.xlabel(\"Epochs\")\n",
    "    plt.legend()\n",
    "\n",
    "    # Plot loss function\n",
    "    plt.subplot(1,2,2)\n",
    "    plt.plot(history.history['loss'], 'bo--', label='train_loss')\n",
    "    plt.plot(history.history['val_loss'], 'ro--', label='val_loss')\n",
    "    plt.title(\"Train vs Validation Loss\")\n",
    "    plt.ylabel(\"Loss\")\n",
    "    plt.xlabel(\"Epochs\")\n",
    "    plt.legend()\n",
    "\n",
    "    plt.show()\n",
    "plot_accuracy_loss(history=history)"
   ]
  },
  {
   "cell_type": "code",
   "execution_count": 102,
   "metadata": {
    "execution": {
     "iopub.execute_input": "2025-09-16T21:34:36.665023Z",
     "iopub.status.busy": "2025-09-16T21:34:36.664715Z",
     "iopub.status.idle": "2025-09-16T21:34:47.922961Z",
     "shell.execute_reply": "2025-09-16T21:34:47.921845Z",
     "shell.execute_reply.started": "2025-09-16T21:34:36.665000Z"
    },
    "trusted": true
   },
   "outputs": [
    {
     "name": "stdout",
     "output_type": "stream",
     "text": [
      "\u001b[1m395/395\u001b[0m \u001b[32m━━━━━━━━━━━━━━━━━━━━\u001b[0m\u001b[37m\u001b[0m \u001b[1m10s\u001b[0m 24ms/step\n"
     ]
    }
   ],
   "source": [
    "pred_probs = model.predict(test_images)         \n",
    "pred_labels = np.argmax(pred_probs, axis=1)"
   ]
  },
  {
   "cell_type": "code",
   "execution_count": 103,
   "metadata": {
    "execution": {
     "iopub.execute_input": "2025-09-16T21:34:49.245419Z",
     "iopub.status.busy": "2025-09-16T21:34:49.244877Z",
     "iopub.status.idle": "2025-09-16T21:34:49.298344Z",
     "shell.execute_reply": "2025-09-16T21:34:49.297139Z",
     "shell.execute_reply.started": "2025-09-16T21:34:49.245391Z"
    },
    "trusted": true
   },
   "outputs": [
    {
     "name": "stdout",
     "output_type": "stream",
     "text": [
      "Classification Report:\n",
      "              precision    recall  f1-score   support\n",
      "\n",
      "           0       0.29      0.63      0.39        60\n",
      "           1       0.50      0.76      0.60       720\n",
      "           2       0.61      0.56      0.58       750\n",
      "           3       0.78      0.37      0.50       450\n",
      "           4       0.80      0.58      0.67       660\n",
      "           5       0.58      0.49      0.53       630\n",
      "           6       1.00      0.22      0.36       150\n",
      "           7       0.69      0.57      0.63       450\n",
      "           8       0.63      0.45      0.53       450\n",
      "           9       0.70      0.89      0.78       480\n",
      "          10       0.96      0.78      0.86       660\n",
      "          11       0.64      0.14      0.23       420\n",
      "          12       0.81      0.96      0.88       690\n",
      "          13       0.81      0.94      0.87       720\n",
      "          14       0.88      0.99      0.93       270\n",
      "          15       0.63      0.76      0.69       210\n",
      "          16       0.94      0.31      0.47       150\n",
      "          17       0.72      0.89      0.79       360\n",
      "          18       0.79      0.35      0.48       390\n",
      "          19       0.73      0.13      0.23        60\n",
      "          20       0.82      0.20      0.32        90\n",
      "          21       0.08      0.11      0.09        90\n",
      "          22       0.67      0.34      0.45       120\n",
      "          23       0.46      0.04      0.07       150\n",
      "          24       0.07      0.30      0.12        90\n",
      "          25       0.68      0.33      0.45       480\n",
      "          26       0.74      0.65      0.69       180\n",
      "          27       0.20      0.03      0.06        60\n",
      "          28       0.19      0.15      0.17       150\n",
      "          29       0.07      0.90      0.14        90\n",
      "          30       0.45      0.26      0.33       150\n",
      "          31       0.60      0.34      0.43       270\n",
      "          32       0.85      0.55      0.67        60\n",
      "          33       0.79      0.88      0.83       210\n",
      "          34       0.98      0.93      0.96       120\n",
      "          35       0.55      0.95      0.70       390\n",
      "          36       0.94      0.85      0.89       120\n",
      "          37       0.94      0.73      0.82        60\n",
      "          38       0.98      0.84      0.90       690\n",
      "          39       0.87      0.91      0.89        90\n",
      "          40       0.54      0.78      0.64        90\n",
      "          41       0.43      0.65      0.52        60\n",
      "          42       0.58      0.36      0.44        90\n",
      "\n",
      "    accuracy                           0.63     12630\n",
      "   macro avg       0.65      0.56      0.55     12630\n",
      "weighted avg       0.70      0.63      0.63     12630\n",
      "\n"
     ]
    }
   ],
   "source": [
    "classes = [str(i) for i in range(43)]\n",
    "\n",
    "print(\"Classification Report:\")\n",
    "print(classification_report(test_labels, pred_labels, target_names=classes))"
   ]
  },
  {
   "cell_type": "code",
   "execution_count": 105,
   "metadata": {
    "execution": {
     "iopub.execute_input": "2025-09-16T21:34:56.829508Z",
     "iopub.status.busy": "2025-09-16T21:34:56.829147Z",
     "iopub.status.idle": "2025-09-16T21:35:06.958578Z",
     "shell.execute_reply": "2025-09-16T21:35:06.957234Z",
     "shell.execute_reply.started": "2025-09-16T21:34:56.829482Z"
    },
    "trusted": true
   },
   "outputs": [
    {
     "name": "stdout",
     "output_type": "stream",
     "text": [
      "Test accuracy: 0.6253365278244019\n"
     ]
    }
   ],
   "source": [
    "loss, acc = model.evaluate(test_images, test_labels, verbose=0)\n",
    "print(\"Test accuracy:\", acc)"
   ]
  },
  {
   "cell_type": "code",
   "execution_count": 108,
   "metadata": {
    "execution": {
     "iopub.execute_input": "2025-09-16T21:36:21.965744Z",
     "iopub.status.busy": "2025-09-16T21:36:21.964175Z",
     "iopub.status.idle": "2025-09-16T21:36:22.069296Z",
     "shell.execute_reply": "2025-09-16T21:36:22.068202Z",
     "shell.execute_reply.started": "2025-09-16T21:36:21.965700Z"
    },
    "trusted": true
   },
   "outputs": [],
   "source": [
    "model.save(\"/kaggle/working/Traffic_Detection.keras\")"
   ]
  }
 ],
 "metadata": {
  "kaggle": {
   "accelerator": "none",
   "dataSources": [
    {
     "datasetId": 82373,
     "sourceId": 191501,
     "sourceType": "datasetVersion"
    }
   ],
   "dockerImageVersionId": 31089,
   "isGpuEnabled": false,
   "isInternetEnabled": true,
   "language": "python",
   "sourceType": "notebook"
  },
  "kernelspec": {
   "display_name": "Python 3",
   "language": "python",
   "name": "python3"
  },
  "language_info": {
   "codemirror_mode": {
    "name": "ipython",
    "version": 3
   },
   "file_extension": ".py",
   "mimetype": "text/x-python",
   "name": "python",
   "nbconvert_exporter": "python",
   "pygments_lexer": "ipython3",
   "version": "3.11.13"
  }
 },
 "nbformat": 4,
 "nbformat_minor": 4
}
