{
 "cells": [
  {
   "cell_type": "code",
   "execution_count": null,
   "id": "b8b1c5de",
   "metadata": {},
   "outputs": [],
   "source": [
    "import numpy as np\n",
    "import os\n",
    "import pandas as pd\n",
    "from sklearn.metrics import confusion_matrix , classification_report\n",
    "from sklearn.model_selection import train_test_split\n",
    "import seaborn as sns\n",
    "from sklearn.utils import shuffle           \n",
    "import matplotlib.pyplot as plt             \n",
    "import cv2                                 \n",
    "import tensorflow as tf    \n",
    "import keras\n",
    "from tqdm import tqdm\n",
    "import warnings\n",
    "warnings.filterwarnings(\"ignore\")  "
   ]
  },
  {
   "cell_type": "code",
   "execution_count": null,
   "id": "4b8f5058",
   "metadata": {},
   "outputs": [],
   "source": [
    "data_dir = \"data\"\n",
    "\n",
    "# Load the training CSV file\n",
    "train_csv = pd.read_csv(os.path.join(data_dir, \"Train.csv\"))\n",
    "# Number of unique classes (should be 43)\n",
    "nb_classes = train_csv[\"ClassId\"].nunique()\n",
    "print(\"Number of classes:\", nb_classes)\n",
    "classes = {\n",
    "    0:'Speed limit (20km/h)', 1:'Speed limit (30km/h)', 2:'Speed limit (50km/h)',\n",
    "    3:'Speed limit (60km/h)', 4:'Speed limit (70km/h)', 5:'Speed limit (80km/h)',\n",
    "    6:'End of speed limit (80km/h)', 7:'Speed limit (100km/h)', 8:'Speed limit (120km/h)',\n",
    "    9:'No passing', 10:'No passing veh over 3.5 tons', 11:'Right-of-way at intersection',\n",
    "    12:'Priority road', 13:'Yield', 14:'Stop', 15:'No vehicles', 16:'Veh > 3.5 tons prohibited',\n",
    "    17:'No entry', 18:'General caution', 19:'Dangerous curve left', 20:'Dangerous curve right',\n",
    "    21:'Double curve', 22:'Bumpy road', 23:'Slippery road', 24:'Road narrows on the right',\n",
    "    25:'Road work', 26:'Traffic signals', 27:'Pedestrians', 28:'Children crossing',\n",
    "    29:'Bicycles crossing', 30:'Beware of ice/snow', 31:'Wild animals crossing',\n",
    "    32:'End speed + passing limits', 33:'Turn right ahead', 34:'Turn left ahead',\n",
    "    35:'Ahead only', 36:'Go straight or right', 37:'Go straight or left', 38:'Keep right',\n",
    "    39:'Keep left', 40:'Roundabout mandatory', 41:'End of no passing', 42:'End no passing veh > 3.5 tons'\n",
    "}\n",
    "# Create a mapping: classid -> class name\n",
    "class_names_label = classes\n",
    "# Example lookup\n",
    "print(\"Class 3 means:\", class_names_label[3])"
   ]
  },
  {
   "cell_type": "code",
   "execution_count": null,
   "id": "0cdecf39",
   "metadata": {},
   "outputs": [],
   "source": []
  },
  {
   "cell_type": "code",
   "execution_count": null,
   "id": "769373b8",
   "metadata": {},
   "outputs": [],
   "source": []
  }
 ],
 "metadata": {
  "kernelspec": {
   "display_name": "venv",
   "language": "python",
   "name": "python3"
  },
  "language_info": {
   "name": "python",
   "version": "3.13.5"
  }
 },
 "nbformat": 4,
 "nbformat_minor": 5
}
