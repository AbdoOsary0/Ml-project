{
 "cells": [
  {
   "cell_type": "code",
   "execution_count": 22,
   "metadata": {
    "execution": {
     "iopub.execute_input": "2025-09-27T03:42:38.126042Z",
     "iopub.status.busy": "2025-09-27T03:42:38.125391Z",
     "iopub.status.idle": "2025-09-27T03:42:38.131719Z",
     "shell.execute_reply": "2025-09-27T03:42:38.130673Z",
     "shell.execute_reply.started": "2025-09-27T03:42:38.126019Z"
    },
    "trusted": true
   },
   "outputs": [],
   "source": [
    "import numpy as np\n",
    "import os\n",
    "import pandas as pd\n",
    "from sklearn.metrics import confusion_matrix ,classification_report\n",
    "import seaborn as sn; sn.set(font_scale=1.4)\n",
    "from sklearn.utils import shuffle           \n",
    "from sklearn.model_selection import train_test_split\n",
    "import matplotlib.pyplot as plt             \n",
    "import cv2                                 \n",
    "import tensorflow as tf                \n",
    "from tqdm import tqdm\n",
    "import warnings\n",
    "warnings.filterwarnings(\"ignore\")   "
   ]
  },
  {
   "cell_type": "code",
   "execution_count": 3,
   "metadata": {
    "execution": {
     "iopub.execute_input": "2025-09-27T01:45:56.160716Z",
     "iopub.status.busy": "2025-09-27T01:45:56.160357Z",
     "iopub.status.idle": "2025-09-27T01:45:56.274975Z",
     "shell.execute_reply": "2025-09-27T01:45:56.274133Z",
     "shell.execute_reply.started": "2025-09-27T01:45:56.160690Z"
    },
    "trusted": true
   },
   "outputs": [
    {
     "name": "stdout",
     "output_type": "stream",
     "text": [
      "Number of classes: 43\n",
      "Class 2 means: Speed limit (50km/h)\n"
     ]
    }
   ],
   "source": [
    "\n",
    "\n",
    "data_dir = \"/kaggle/input/gtsrb-german-traffic-sign\"\n",
    "\n",
    "# Load the training CSV file\n",
    "train_csv = pd.read_csv(os.path.join(data_dir, \"Train.csv\"))\n",
    "\n",
    "# Number of unique classes (should be 43)\n",
    "nb_classes = train_csv[\"ClassId\"].nunique()\n",
    "print(\"Number of classes:\", nb_classes)\n",
    "\n",
    "classes = {\n",
    "    0:'Speed limit (20km/h)', 1:'Speed limit (30km/h)', 2:'Speed limit (50km/h)',\n",
    "    3:'Speed limit (60km/h)', 4:'Speed limit (70km/h)', 5:'Speed limit (80km/h)',\n",
    "    6:'End of speed limit (80km/h)', 7:'Speed limit (100km/h)', 8:'Speed limit (120km/h)',\n",
    "    9:'No passing', 10:'No passing veh over 3.5 tons', 11:'Right-of-way at intersection',\n",
    "    12:'Priority road', 13:'Yield', 14:'Stop', 15:'No vehicles', 16:'Veh > 3.5 tons prohibited',\n",
    "    17:'No entry', 18:'General caution', 19:'Dangerous curve left', 20:'Dangerous curve right',\n",
    "    21:'Double curve', 22:'Bumpy road', 23:'Slippery road', 24:'Road narrows on the right',\n",
    "    25:'Road work', 26:'Traffic signals', 27:'Pedestrians', 28:'Children crossing',\n",
    "    29:'Bicycles crossing', 30:'Beware of ice/snow', 31:'Wild animals crossing',\n",
    "    32:'End speed + passing limits', 33:'Turn right ahead', 34:'Turn left ahead',\n",
    "    35:'Ahead only', 36:'Go straight or right', 37:'Go straight or left', 38:'Keep right',\n",
    "    39:'Keep left', 40:'Roundabout mandatory', 41:'End of no passing', 42:'End no passing veh > 3.5 tons'\n",
    "}\n",
    "\n",
    "# Create a mapping: classid -> class name\n",
    "class_names_label = classes\n",
    "\n",
    "# Example lookup\n",
    "print(\"Class 2 means:\", class_names_label[2])\n"
   ]
  },
  {
   "cell_type": "code",
   "execution_count": 4,
   "metadata": {
    "execution": {
     "iopub.execute_input": "2025-09-27T01:46:11.020148Z",
     "iopub.status.busy": "2025-09-27T01:46:11.019845Z",
     "iopub.status.idle": "2025-09-27T01:53:57.891730Z",
     "shell.execute_reply": "2025-09-27T01:53:57.890348Z",
     "shell.execute_reply.started": "2025-09-27T01:46:11.020126Z"
    },
    "trusted": true
   },
   "outputs": [
    {
     "name": "stderr",
     "output_type": "stream",
     "text": [
      "100%|██████████| 39209/39209 [05:52<00:00, 111.09it/s]\n",
      "100%|██████████| 12630/12630 [01:52<00:00, 112.11it/s]\n"
     ]
    }
   ],
   "source": [
    "IMAGE_SIZE = (64, 64)\n",
    "def load_data(df, base_dir):\n",
    "    images = []\n",
    "    labels = []\n",
    "\n",
    "    for i, row in tqdm(df.iterrows(), total=len(df)):\n",
    "        img_path = os.path.join(base_dir, row[\"Path\"])\n",
    "        label = row[\"ClassId\"]\n",
    "\n",
    "        image = cv2.imread(img_path)\n",
    "        image = cv2.cvtColor(image, cv2.COLOR_BGR2RGB)\n",
    "        image = cv2.resize(image, IMAGE_SIZE)\n",
    "\n",
    "        # Normalization\n",
    "        image = image.astype(\"float32\") / 255.0\n",
    "\n",
    "        images.append(image)\n",
    "        labels.append(label)\n",
    "\n",
    "    images = np.array(images, dtype=\"float32\")\n",
    "    labels = np.array(labels, dtype=\"int32\")\n",
    "    return images, labels\n",
    "\n",
    "\n",
    "# load\n",
    "test_csv  = pd.read_csv(os.path.join(data_dir, \"Test.csv\"))\n",
    "\n",
    "train_images, train_labels = load_data(train_csv, data_dir)\n",
    "test_images, test_labels = load_data(test_csv, data_dir)\n"
   ]
  },
  {
   "cell_type": "code",
   "execution_count": 5,
   "metadata": {
    "execution": {
     "iopub.execute_input": "2025-09-27T01:56:33.274825Z",
     "iopub.status.busy": "2025-09-27T01:56:33.274410Z",
     "iopub.status.idle": "2025-09-27T01:56:34.257634Z",
     "shell.execute_reply": "2025-09-27T01:56:34.256544Z",
     "shell.execute_reply.started": "2025-09-27T01:56:33.274798Z"
    },
    "trusted": true
   },
   "outputs": [],
   "source": [
    "train_images, train_labels = shuffle(train_images, train_labels, random_state=25)"
   ]
  },
  {
   "cell_type": "code",
   "execution_count": 6,
   "metadata": {
    "execution": {
     "iopub.execute_input": "2025-09-27T01:56:40.740513Z",
     "iopub.status.busy": "2025-09-27T01:56:40.740164Z",
     "iopub.status.idle": "2025-09-27T01:56:40.745690Z",
     "shell.execute_reply": "2025-09-27T01:56:40.744772Z",
     "shell.execute_reply.started": "2025-09-27T01:56:40.740488Z"
    },
    "trusted": true
   },
   "outputs": [
    {
     "name": "stdout",
     "output_type": "stream",
     "text": [
      "Number of training examples: 39209\n",
      "Number of testing examples: 12630\n",
      "Each image is of size: (64, 64)\n"
     ]
    }
   ],
   "source": [
    "n_train = train_labels.shape[0]\n",
    "n_test = test_labels.shape[0]\n",
    "\n",
    "print(\"Number of training examples:\", n_train)\n",
    "print(\"Number of testing examples:\", n_test)\n",
    "print(\"Each image is of size:\", IMAGE_SIZE)"
   ]
  },
  {
   "cell_type": "code",
   "execution_count": 9,
   "metadata": {
    "execution": {
     "iopub.execute_input": "2025-09-27T01:57:09.500822Z",
     "iopub.status.busy": "2025-09-27T01:57:09.500040Z",
     "iopub.status.idle": "2025-09-27T01:57:10.308990Z",
     "shell.execute_reply": "2025-09-27T01:57:10.308102Z",
     "shell.execute_reply.started": "2025-09-27T01:57:09.500793Z"
    },
    "trusted": true
   },
   "outputs": [],
   "source": [
    "X_train, X_val, y_train, y_val = train_test_split(\n",
    "    train_images, train_labels, test_size=0.15, random_state=44, stratify=train_labels\n",
    ")\n",
    "X_test,y_test = (test_images, test_labels)"
   ]
  },
  {
   "cell_type": "code",
   "execution_count": null,
   "metadata": {
    "execution": {
     "iopub.execute_input": "2025-09-27T03:21:21.527162Z",
     "iopub.status.busy": "2025-09-27T03:21:21.526830Z",
     "iopub.status.idle": "2025-09-27T03:21:28.371661Z",
     "shell.execute_reply": "2025-09-27T03:21:28.370868Z",
     "shell.execute_reply.started": "2025-09-27T03:21:21.527140Z"
    },
    "trusted": true
   },
   "outputs": [
    {
     "name": "stdout",
     "output_type": "stream",
     "text": [
      "Downloading data from https://storage.googleapis.com/tensorflow/keras-applications/densenet/densenet169_weights_tf_dim_ordering_tf_kernels_notop.h5\n",
      "\u001b[1m51877672/51877672\u001b[0m \u001b[32m━━━━━━━━━━━━━━━━━━━━\u001b[0m\u001b[37m\u001b[0m \u001b[1m2s\u001b[0m 0us/step\n"
     ]
    },
    {
     "data": {
      "text/html": [
       "<pre style=\"white-space:pre;overflow-x:auto;line-height:normal;font-family:Menlo,'DejaVu Sans Mono',consolas,'Courier New',monospace\"><span style=\"font-weight: bold\">Model: \"sequential_3\"</span>\n",
       "</pre>\n"
      ],
      "text/plain": [
       "\u001b[1mModel: \"sequential_3\"\u001b[0m\n"
      ]
     },
     "metadata": {},
     "output_type": "display_data"
    },
    {
     "data": {
      "text/html": [
       "<pre style=\"white-space:pre;overflow-x:auto;line-height:normal;font-family:Menlo,'DejaVu Sans Mono',consolas,'Courier New',monospace\">┏━━━━━━━━━━━━━━━━━━━━━━━━━━━━━━━━━┳━━━━━━━━━━━━━━━━━━━━━━━━┳━━━━━━━━━━━━━━━┓\n",
       "┃<span style=\"font-weight: bold\"> Layer (type)                    </span>┃<span style=\"font-weight: bold\"> Output Shape           </span>┃<span style=\"font-weight: bold\">       Param # </span>┃\n",
       "┡━━━━━━━━━━━━━━━━━━━━━━━━━━━━━━━━━╇━━━━━━━━━━━━━━━━━━━━━━━━╇━━━━━━━━━━━━━━━┩\n",
       "│ densenet169 (<span style=\"color: #0087ff; text-decoration-color: #0087ff\">Functional</span>)        │ (<span style=\"color: #00d7ff; text-decoration-color: #00d7ff\">None</span>, <span style=\"color: #00af00; text-decoration-color: #00af00\">2</span>, <span style=\"color: #00af00; text-decoration-color: #00af00\">2</span>, <span style=\"color: #00af00; text-decoration-color: #00af00\">1664</span>)     │    <span style=\"color: #00af00; text-decoration-color: #00af00\">12,642,880</span> │\n",
       "├─────────────────────────────────┼────────────────────────┼───────────────┤\n",
       "│ global_average_pooling2d        │ (<span style=\"color: #00d7ff; text-decoration-color: #00d7ff\">None</span>, <span style=\"color: #00af00; text-decoration-color: #00af00\">1664</span>)           │             <span style=\"color: #00af00; text-decoration-color: #00af00\">0</span> │\n",
       "│ (<span style=\"color: #0087ff; text-decoration-color: #0087ff\">GlobalAveragePooling2D</span>)        │                        │               │\n",
       "├─────────────────────────────────┼────────────────────────┼───────────────┤\n",
       "│ dense_6 (<span style=\"color: #0087ff; text-decoration-color: #0087ff\">Dense</span>)                 │ (<span style=\"color: #00d7ff; text-decoration-color: #00d7ff\">None</span>, <span style=\"color: #00af00; text-decoration-color: #00af00\">256</span>)            │       <span style=\"color: #00af00; text-decoration-color: #00af00\">426,240</span> │\n",
       "├─────────────────────────────────┼────────────────────────┼───────────────┤\n",
       "│ dropout_9 (<span style=\"color: #0087ff; text-decoration-color: #0087ff\">Dropout</span>)             │ (<span style=\"color: #00d7ff; text-decoration-color: #00d7ff\">None</span>, <span style=\"color: #00af00; text-decoration-color: #00af00\">256</span>)            │             <span style=\"color: #00af00; text-decoration-color: #00af00\">0</span> │\n",
       "├─────────────────────────────────┼────────────────────────┼───────────────┤\n",
       "│ dense_7 (<span style=\"color: #0087ff; text-decoration-color: #0087ff\">Dense</span>)                 │ (<span style=\"color: #00d7ff; text-decoration-color: #00d7ff\">None</span>, <span style=\"color: #00af00; text-decoration-color: #00af00\">43</span>)             │        <span style=\"color: #00af00; text-decoration-color: #00af00\">11,051</span> │\n",
       "└─────────────────────────────────┴────────────────────────┴───────────────┘\n",
       "</pre>\n"
      ],
      "text/plain": [
       "┏━━━━━━━━━━━━━━━━━━━━━━━━━━━━━━━━━┳━━━━━━━━━━━━━━━━━━━━━━━━┳━━━━━━━━━━━━━━━┓\n",
       "┃\u001b[1m \u001b[0m\u001b[1mLayer (type)                   \u001b[0m\u001b[1m \u001b[0m┃\u001b[1m \u001b[0m\u001b[1mOutput Shape          \u001b[0m\u001b[1m \u001b[0m┃\u001b[1m \u001b[0m\u001b[1m      Param #\u001b[0m\u001b[1m \u001b[0m┃\n",
       "┡━━━━━━━━━━━━━━━━━━━━━━━━━━━━━━━━━╇━━━━━━━━━━━━━━━━━━━━━━━━╇━━━━━━━━━━━━━━━┩\n",
       "│ densenet169 (\u001b[38;5;33mFunctional\u001b[0m)        │ (\u001b[38;5;45mNone\u001b[0m, \u001b[38;5;34m2\u001b[0m, \u001b[38;5;34m2\u001b[0m, \u001b[38;5;34m1664\u001b[0m)     │    \u001b[38;5;34m12,642,880\u001b[0m │\n",
       "├─────────────────────────────────┼────────────────────────┼───────────────┤\n",
       "│ global_average_pooling2d        │ (\u001b[38;5;45mNone\u001b[0m, \u001b[38;5;34m1664\u001b[0m)           │             \u001b[38;5;34m0\u001b[0m │\n",
       "│ (\u001b[38;5;33mGlobalAveragePooling2D\u001b[0m)        │                        │               │\n",
       "├─────────────────────────────────┼────────────────────────┼───────────────┤\n",
       "│ dense_6 (\u001b[38;5;33mDense\u001b[0m)                 │ (\u001b[38;5;45mNone\u001b[0m, \u001b[38;5;34m256\u001b[0m)            │       \u001b[38;5;34m426,240\u001b[0m │\n",
       "├─────────────────────────────────┼────────────────────────┼───────────────┤\n",
       "│ dropout_9 (\u001b[38;5;33mDropout\u001b[0m)             │ (\u001b[38;5;45mNone\u001b[0m, \u001b[38;5;34m256\u001b[0m)            │             \u001b[38;5;34m0\u001b[0m │\n",
       "├─────────────────────────────────┼────────────────────────┼───────────────┤\n",
       "│ dense_7 (\u001b[38;5;33mDense\u001b[0m)                 │ (\u001b[38;5;45mNone\u001b[0m, \u001b[38;5;34m43\u001b[0m)             │        \u001b[38;5;34m11,051\u001b[0m │\n",
       "└─────────────────────────────────┴────────────────────────┴───────────────┘\n"
      ]
     },
     "metadata": {},
     "output_type": "display_data"
    },
    {
     "data": {
      "text/html": [
       "<pre style=\"white-space:pre;overflow-x:auto;line-height:normal;font-family:Menlo,'DejaVu Sans Mono',consolas,'Courier New',monospace\"><span style=\"font-weight: bold\"> Total params: </span><span style=\"color: #00af00; text-decoration-color: #00af00\">13,080,171</span> (49.90 MB)\n",
       "</pre>\n"
      ],
      "text/plain": [
       "\u001b[1m Total params: \u001b[0m\u001b[38;5;34m13,080,171\u001b[0m (49.90 MB)\n"
      ]
     },
     "metadata": {},
     "output_type": "display_data"
    },
    {
     "data": {
      "text/html": [
       "<pre style=\"white-space:pre;overflow-x:auto;line-height:normal;font-family:Menlo,'DejaVu Sans Mono',consolas,'Courier New',monospace\"><span style=\"font-weight: bold\"> Trainable params: </span><span style=\"color: #00af00; text-decoration-color: #00af00\">437,291</span> (1.67 MB)\n",
       "</pre>\n"
      ],
      "text/plain": [
       "\u001b[1m Trainable params: \u001b[0m\u001b[38;5;34m437,291\u001b[0m (1.67 MB)\n"
      ]
     },
     "metadata": {},
     "output_type": "display_data"
    },
    {
     "data": {
      "text/html": [
       "<pre style=\"white-space:pre;overflow-x:auto;line-height:normal;font-family:Menlo,'DejaVu Sans Mono',consolas,'Courier New',monospace\"><span style=\"font-weight: bold\"> Non-trainable params: </span><span style=\"color: #00af00; text-decoration-color: #00af00\">12,642,880</span> (48.23 MB)\n",
       "</pre>\n"
      ],
      "text/plain": [
       "\u001b[1m Non-trainable params: \u001b[0m\u001b[38;5;34m12,642,880\u001b[0m (48.23 MB)\n"
      ]
     },
     "metadata": {},
     "output_type": "display_data"
    }
   ],
   "source": [
    "# model - DenseNet169 with frozen layers\n",
    "base_model = tf.keras.applications.DenseNet169(\n",
    "    include_top=False,          # remove default classifier\n",
    "    weights=\"imagenet\",\n",
    "    input_shape=(64, 64, 3),  # image size\n",
    "    pooling=None\n",
    ")\n",
    "\n",
    "# freeze all convolutional layers\n",
    "for layer in base_model.layers:\n",
    "    layer.trainable = False\n",
    "\n",
    "# build Sequential model\n",
    "model = tf.keras.models.Sequential([\n",
    "    base_model,\n",
    "    tf.keras.layers.GlobalAveragePooling2D(),\n",
    "    tf.keras.layers.Dense(256, activation=\"relu\"),\n",
    "    tf.keras.layers.Dropout(0.5),\n",
    "    tf.keras.layers.Dense(43, activation=\"softmax\")\n",
    "])\n",
    "# compile\n",
    "model.compile(\n",
    "    optimizer=\"adam\",\n",
    "    loss=\"sparse_categorical_crossentropy\",\n",
    "    metrics=[\"accuracy\"]\n",
    ")\n",
    "# callbacks\n",
    "early_stop = tf.keras.callbacks.EarlyStopping(\n",
    "    monitor=\"val_loss\",\n",
    "    patience=5,\n",
    "    restore_best_weights=True\n",
    ")\n",
    "model.summary()"
   ]
  },
  {
   "cell_type": "code",
   "execution_count": null,
   "metadata": {
    "execution": {
     "iopub.execute_input": "2025-09-27T03:22:32.219626Z",
     "iopub.status.busy": "2025-09-27T03:22:32.219278Z",
     "iopub.status.idle": "2025-09-27T03:40:30.980166Z",
     "shell.execute_reply": "2025-09-27T03:40:30.978420Z",
     "shell.execute_reply.started": "2025-09-27T03:22:32.219603Z"
    },
    "trusted": true
   },
   "outputs": [
    {
     "name": "stdout",
     "output_type": "stream",
     "text": [
      "\u001b[1m261/261\u001b[0m \u001b[32m━━━━━━━━━━━━━━━━━━━━\u001b[0m\u001b[37m\u001b[0m \u001b[1m1076s\u001b[0m 4s/step - accuracy: 0.9960 - loss: 0.0135 - val_accuracy: 0.9942 - val_loss: 0.0292\n"
     ]
    }
   ],
   "source": [
    "history = model.fit(\n",
    "    X_train,\n",
    "    y_train,\n",
    "    batch_size = 128,\n",
    "    epochs = 1,\n",
    "    validation_data=(X_val, y_val),\n",
    "    )"
   ]
  },
  {
   "cell_type": "code",
   "execution_count": 19,
   "metadata": {
    "execution": {
     "iopub.execute_input": "2025-09-27T03:40:35.459627Z",
     "iopub.status.busy": "2025-09-27T03:40:35.459176Z",
     "iopub.status.idle": "2025-09-27T03:40:36.237335Z",
     "shell.execute_reply": "2025-09-27T03:40:36.235962Z",
     "shell.execute_reply.started": "2025-09-27T03:40:35.459593Z"
    },
    "trusted": true
   },
   "outputs": [
    {
     "data": {
      "image/png": "[encoded data removed]",
      "text/plain": [
       "<Figure size 1200x500 with 2 Axes>"
      ]
     },
     "metadata": {},
     "output_type": "display_data"
    }
   ],
   "source": [
    "def plot_accuracy_loss(history):\n",
    "    \"\"\"\n",
    "    Plot the accuracy and the loss during the training of the nn.\n",
    "    \"\"\"\n",
    "    fig = plt.figure(figsize=(12,5))\n",
    "\n",
    "    # Plot accuracy\n",
    "    plt.subplot(1,2,1)\n",
    "    plt.plot(history.history['accuracy'], 'bo--', label='train_accuracy')\n",
    "    plt.plot(history.history['val_accuracy'], 'ro--', label='val_accuracy')\n",
    "    plt.title(\"Train vs Validation Accuracy\")\n",
    "    plt.ylabel(\"Accuracy\")\n",
    "    plt.xlabel(\"Epochs\")\n",
    "    plt.legend()\n",
    "\n",
    "    # Plot loss function\n",
    "    plt.subplot(1,2,2)\n",
    "    plt.plot(history.history['loss'], 'bo--', label='train_loss')\n",
    "    plt.plot(history.history['val_loss'], 'ro--', label='val_loss')\n",
    "    plt.title(\"Train vs Validation Loss\")\n",
    "    plt.ylabel(\"Loss\")\n",
    "    plt.xlabel(\"Epochs\")\n",
    "    plt.legend()\n",
    "\n",
    "    plt.show()\n",
    "plot_accuracy_loss(history=history)"
   ]
  },
  {
   "cell_type": "code",
   "execution_count": 23,
   "metadata": {
    "execution": {
     "iopub.execute_input": "2025-09-27T03:42:45.016361Z",
     "iopub.status.busy": "2025-09-27T03:42:45.016046Z",
     "iopub.status.idle": "2025-09-27T03:44:23.059219Z",
     "shell.execute_reply": "2025-09-27T03:44:23.058112Z",
     "shell.execute_reply.started": "2025-09-27T03:42:45.016337Z"
    },
    "trusted": true
   },
   "outputs": [
    {
     "name": "stdout",
     "output_type": "stream",
     "text": [
      "\u001b[1m395/395\u001b[0m \u001b[32m━━━━━━━━━━━━━━━━━━━━\u001b[0m\u001b[37m\u001b[0m \u001b[1m95s\u001b[0m 242ms/step\n",
      "Classification Report:\n",
      "              precision    recall  f1-score   support\n",
      "\n",
      "           0       1.00      0.98      0.99        60\n",
      "           1       0.94      0.98      0.96       720\n",
      "           2       0.99      1.00      0.99       750\n",
      "           3       0.95      0.98      0.96       450\n",
      "           4       0.99      0.98      0.98       660\n",
      "           5       0.93      0.98      0.95       630\n",
      "           6       1.00      0.74      0.85       150\n",
      "           7       0.97      0.95      0.96       450\n",
      "           8       0.95      0.97      0.96       450\n",
      "           9       0.96      1.00      0.98       480\n",
      "          10       1.00      0.99      1.00       660\n",
      "          11       0.99      0.98      0.98       420\n",
      "          12       0.95      0.98      0.97       690\n",
      "          13       0.99      0.99      0.99       720\n",
      "          14       0.97      1.00      0.98       270\n",
      "          15       0.94      1.00      0.97       210\n",
      "          16       1.00      0.99      0.99       150\n",
      "          17       0.99      1.00      1.00       360\n",
      "          18       0.99      0.94      0.96       390\n",
      "          19       0.80      1.00      0.89        60\n",
      "          20       0.83      0.99      0.90        90\n",
      "          21       0.93      0.63      0.75        90\n",
      "          22       0.97      0.96      0.97       120\n",
      "          23       1.00      0.84      0.91       150\n",
      "          24       0.92      0.98      0.95        90\n",
      "          25       0.98      0.96      0.97       480\n",
      "          26       0.95      0.82      0.88       180\n",
      "          27       0.94      0.50      0.65        60\n",
      "          28       0.91      0.99      0.95       150\n",
      "          29       0.99      0.97      0.98        90\n",
      "          30       0.89      0.81      0.85       150\n",
      "          31       0.92      1.00      0.96       270\n",
      "          32       0.97      1.00      0.98        60\n",
      "          33       1.00      1.00      1.00       210\n",
      "          34       0.99      0.99      0.99       120\n",
      "          35       1.00      0.99      0.99       390\n",
      "          36       1.00      0.98      0.99       120\n",
      "          37       0.98      1.00      0.99        60\n",
      "          38       0.99      0.99      0.99       690\n",
      "          39       0.99      0.99      0.99        90\n",
      "          40       0.99      0.82      0.90        90\n",
      "          41       0.98      0.72      0.83        60\n",
      "          42       0.88      1.00      0.94        90\n",
      "\n",
      "    accuracy                           0.97     12630\n",
      "   macro avg       0.96      0.94      0.94     12630\n",
      "weighted avg       0.97      0.97      0.97     12630\n",
      "\n"
     ]
    }
   ],
   "source": [
    "pred_probs = model.predict(test_images)         \n",
    "pred_labels = np.argmax(pred_probs, axis=1)\n",
    "classes = [str(i) for i in range(43)]\n",
    "\n",
    "print(\"Classification Report:\")\n",
    "print(classification_report(test_labels, pred_labels, target_names=classes))"
   ]
  },
  {
   "cell_type": "code",
   "execution_count": 24,
   "metadata": {
    "execution": {
     "iopub.execute_input": "2025-09-27T03:44:51.265548Z",
     "iopub.status.busy": "2025-09-27T03:44:51.265182Z",
     "iopub.status.idle": "2025-09-27T03:46:27.566321Z",
     "shell.execute_reply": "2025-09-27T03:46:27.565534Z",
     "shell.execute_reply.started": "2025-09-27T03:44:51.265522Z"
    },
    "trusted": true
   },
   "outputs": [
    {
     "name": "stdout",
     "output_type": "stream",
     "text": [
      "Test accuracy: 0.9670625329017639\n"
     ]
    }
   ],
   "source": [
    "loss, acc = model.evaluate(test_images, test_labels, verbose=0)\n",
    "print(\"Test accuracy:\", acc)"
   ]
  },
  {
   "cell_type": "code",
   "execution_count": 25,
   "metadata": {
    "execution": {
     "iopub.execute_input": "2025-09-27T03:46:43.127770Z",
     "iopub.status.busy": "2025-09-27T03:46:43.127315Z",
     "iopub.status.idle": "2025-09-27T03:46:43.818791Z",
     "shell.execute_reply": "2025-09-27T03:46:43.817550Z",
     "shell.execute_reply.started": "2025-09-27T03:46:43.127681Z"
    },
    "trusted": true
   },
   "outputs": [],
   "source": [
    "model.save(\"DenseNet169.keras\")"
   ]
  },
  {
   "cell_type": "code",
   "execution_count": null,
   "metadata": {
    "trusted": true
   },
   "outputs": [],
   "source": []
  },
  {
   "cell_type": "code",
   "execution_count": null,
   "metadata": {
    "trusted": true
   },
   "outputs": [],
   "source": []
  },
  {
   "cell_type": "code",
   "execution_count": null,
   "metadata": {
    "trusted": true
   },
   "outputs": [],
   "source": []
  },
  {
   "cell_type": "code",
   "execution_count": null,
   "metadata": {
    "trusted": true
   },
   "outputs": [],
   "source": []
  },
  {
   "cell_type": "code",
   "execution_count": null,
   "metadata": {
    "trusted": true
   },
   "outputs": [],
   "source": []
  },
  {
   "cell_type": "code",
   "execution_count": null,
   "metadata": {
    "trusted": true
   },
   "outputs": [],
   "source": []
  },
  {
   "cell_type": "code",
   "execution_count": null,
   "metadata": {
    "trusted": true
   },
   "outputs": [],
   "source": []
  },
  {
   "cell_type": "code",
   "execution_count": null,
   "metadata": {
    "trusted": true
   },
   "outputs": [],
   "source": []
  }
 ],
 "metadata": {
  "kaggle": {
   "accelerator": "none",
   "dataSources": [
    {
     "datasetId": 82373,
     "sourceId": 191501,
     "sourceType": "datasetVersion"
    }
   ],
   "dockerImageVersionId": 31089,
   "isGpuEnabled": false,
   "isInternetEnabled": true,
   "language": "python",
   "sourceType": "notebook"
  },
  "kernelspec": {
   "display_name": "venv",
   "language": "python",
   "name": "python3"
  },
  "language_info": {
   "codemirror_mode": {
    "name": "ipython",
    "version": 3
   },
   "file_extension": ".py",
   "mimetype": "text/x-python",
   "name": "python",
   "nbconvert_exporter": "python",
   "pygments_lexer": "ipython3",
   "version": "3.13.5"
  }
 },
 "nbformat": 4,
 "nbformat_minor": 4
}
