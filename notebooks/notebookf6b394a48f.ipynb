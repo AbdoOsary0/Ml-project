{
 "cells": [
  {
   "cell_type": "code",
   "execution_count": 1,
   "metadata": {
    "execution": {
     "iopub.execute_input": "2025-09-28T23:19:15.766854Z",
     "iopub.status.busy": "2025-09-28T23:19:15.766546Z",
     "iopub.status.idle": "2025-09-28T23:19:15.772181Z",
     "shell.execute_reply": "2025-09-28T23:19:15.771521Z",
     "shell.execute_reply.started": "2025-09-28T23:19:15.766822Z"
    },
    "trusted": true
   },
   "outputs": [],
   "source": [
    "import os\n",
    "import pandas as pd\n",
    "import shutil\n",
    "import cv2\n",
    "from tqdm import tqdm\n",
    "from sklearn.model_selection import train_test_split\n",
    "from ultralytics import YOLO\n",
    "\n",
    "OUT_DIR = \"/data/yolo_gtsrb\"\n",
    "for split in [\"train\", \"val\"]:\n",
    "    os.makedirs(os.path.join(OUT_DIR, \"images\", split), exist_ok=True)\n",
    "    os.makedirs(os.path.join(OUT_DIR, \"labels\", split), exist_ok=True)"
   ]
  },
  {
   "cell_type": "code",
   "execution_count": 19,
   "metadata": {
    "execution": {
     "iopub.execute_input": "2025-09-28T23:19:18.062248Z",
     "iopub.status.busy": "2025-09-28T23:19:18.061702Z",
     "iopub.status.idle": "2025-09-28T23:19:18.140652Z",
     "shell.execute_reply": "2025-09-28T23:19:18.139709Z",
     "shell.execute_reply.started": "2025-09-28T23:19:18.062223Z"
    },
    "trusted": true
   },
   "outputs": [],
   "source": [
    "df=pd.read_csv(\"../data/Balanced_Train_Detection/Train1.csv\")\n",
    "train_df, val_df = train_test_split(df, test_size=0.2, random_state=42\n",
    "                                    , stratify=df[\"ClassId\"])\n"
   ]
  },
  {
   "cell_type": "code",
   "execution_count": 20,
   "metadata": {
    "execution": {
     "iopub.execute_input": "2025-09-28T23:20:18.019590Z",
     "iopub.status.busy": "2025-09-28T23:20:18.018968Z",
     "iopub.status.idle": "2025-09-28T23:24:48.406287Z",
     "shell.execute_reply": "2025-09-28T23:24:48.405607Z",
     "shell.execute_reply.started": "2025-09-28T23:20:18.019566Z"
    },
    "trusted": true
   },
   "outputs": [
    {
     "name": "stderr",
     "output_type": "stream",
     "text": [
      "100%|██████████| 68800/68800 [02:06<00:00, 542.82it/s]\n",
      "100%|██████████| 17200/17200 [00:34<00:00, 504.66it/s]\n"
     ]
    }
   ],
   "source": [
    "\n",
    "def convert_to_yolo(df, split):\n",
    "    for i, row in tqdm(df.iterrows(), total=len(df)):\n",
    "        img_path = os.path.join(r\"../data/Balanced_Train_Detection\", row[\"Path\"])\n",
    "        label = row[\"ClassId\"]\n",
    "\n",
    "        # Copy image\n",
    "        fname = f\"{split}_{i}.jpg\"\n",
    "        out_img = os.path.join(OUT_DIR, \"images\", split, fname)\n",
    "        shutil.copy(img_path, out_img)\n",
    "\n",
    "        # Get width, height\n",
    "        img = cv2.imread(img_path)\n",
    "        h, w = img.shape[:2]\n",
    "\n",
    "        # Bounding box = full image\n",
    "        x_center, y_center = 0.5, 0.5\n",
    "        width, height = 1.0, 1.0\n",
    "\n",
    "        # Save label\n",
    "        out_label = os.path.join(OUT_DIR, \"labels\", split, fname.replace(\".jpg\", \".txt\"))\n",
    "        with open(out_label, \"w\") as f:\n",
    "            f.write(f\"{label} {x_center} {y_center} {width} {height}\\n\")\n",
    "\n",
    "convert_to_yolo(train_df, \"train\")\n",
    "convert_to_yolo(val_df, \"val\")\n"
   ]
  },
  {
   "cell_type": "code",
   "execution_count": 21,
   "metadata": {
    "execution": {
     "iopub.execute_input": "2025-09-28T23:24:48.407737Z",
     "iopub.status.busy": "2025-09-28T23:24:48.407521Z",
     "iopub.status.idle": "2025-09-28T23:24:48.414460Z",
     "shell.execute_reply": "2025-09-28T23:24:48.413891Z",
     "shell.execute_reply.started": "2025-09-28T23:24:48.407720Z"
    },
    "trusted": true
   },
   "outputs": [],
   "source": [
    "classes = {\n",
    "    0:'Speed limit (20km/h)', 1:'Speed limit (30km/h)', 2:'Speed limit (50km/h)',\n",
    "    3:'Speed limit (60km/h)', 4:'Speed limit (70km/h)', 5:'Speed limit (80km/h)',\n",
    "    6:'End of speed limit (80km/h)', 7:'Speed limit (100km/h)', 8:'Speed limit (120km/h)',\n",
    "    9:'No passing', 10:'No passing veh over 3.5 tons', 11:'Right-of-way at intersection',\n",
    "    12:'Priority road', 13:'Yield', 14:'Stop', 15:'No vehicles', 16:'Veh > 3.5 tons prohibited',\n",
    "    17:'No entry', 18:'General caution', 19:'Dangerous curve left', 20:'Dangerous curve right',\n",
    "    21:'Double curve', 22:'Bumpy road', 23:'Slippery road', 24:'Road narrows on the right',\n",
    "    25:'Road work', 26:'Traffic signals', 27:'Pedestrians', 28:'Children crossing',\n",
    "    29:'Bicycles crossing', 30:'Beware of ice/snow', 31:'Wild animals crossing',\n",
    "    32:'End speed + passing limits', 33:'Turn right ahead', 34:'Turn left ahead',\n",
    "    35:'Ahead only', 36:'Go straight or right', 37:'Go straight or left', 38:'Keep right',\n",
    "    39:'Keep left', 40:'Roundabout mandatory', 41:'End of no passing', 42:'End no passing veh > 3.5 tons'\n",
    "}\n",
    "with open(os.path.join(OUT_DIR, \"data.yaml\"), \"w\") as f:\n",
    "    f.write(f\"\"\"\n",
    "train: {OUT_DIR}/images/train\n",
    "val: {OUT_DIR}/images/val\n",
    "nc: 43\n",
    "names: {list(classes.values())}\n",
    "\"\"\")\n"
   ]
  },
  {
   "cell_type": "code",
   "execution_count": null,
   "metadata": {
    "execution": {
     "iopub.execute_input": "2025-09-28T23:28:21.208723Z",
     "iopub.status.busy": "2025-09-28T23:28:21.208421Z"
    },
    "trusted": true
   },
   "outputs": [],
   "source": [
    "\n",
    "# Load pretrained YOLOv8 model\n",
    "model = YOLO(\"yolov8n.pt\")\n",
    "yaml_path = r\"D:\\AI-MachineLearning\\Ml-project\\data\\yolo_gtsrb\\data.yaml\"\n",
    "print(os.path.exists(yaml_path))  # should print True now\n",
    "\n",
    "model.train(\n",
    "    data=yaml_path,\n",
    "    epochs=2,\n",
    "    imgsz=64,\n",
    "    batch=16\n",
    ")\n"
   ]
  },
  {
   "cell_type": "code",
   "execution_count": 59,
   "metadata": {
    "execution": {
     "iopub.status.busy": "2025-09-28T23:18:41.314890Z",
     "iopub.status.idle": "2025-09-28T23:18:41.315248Z",
     "shell.execute_reply": "2025-09-28T23:18:41.315087Z",
     "shell.execute_reply.started": "2025-09-28T23:18:41.315071Z"
    },
    "trusted": true
   },
   "outputs": [
    {
     "name": "stdout",
     "output_type": "stream",
     "text": [
      "Ultralytics 8.3.203  Python-3.13.5 torch-2.8.0+cpu CPU (Intel Core i7-8850H 2.60GHz)\n",
      "Model summary (fused): 72 layers, 3,014,033 parameters, 0 gradients, 8.1 GFLOPs\n",
      "\u001b[34m\u001b[1mval: \u001b[0mFast image access  (ping: 0.00.0 ms, read: 39.719.3 MB/s, size: 6.4 KB)\n",
      "\u001b[K\u001b[34m\u001b[1mval: \u001b[0mScanning D:\\AI-MachineLearning\\Ml-project\\data\\yolo_gtsrb\\labels\\val.cache... 17200 images, 0 backgrounds, 0 corrupt: 100% ━━━━━━━━━━━━ 17200/17200 11.5Mit/s 0.0s\n",
      "\u001b[K                 Class     Images  Instances      Box(P          R      mAP50  mAP50-95): 100% ━━━━━━━━━━━━ 1075/1075 10.5it/s 1:42<0.1s\n",
      "                   all      17200      17200      0.275      0.746      0.355      0.339\n",
      "  Speed limit (20km/h)        400        400       0.28      0.827      0.292      0.277\n",
      "  Speed limit (30km/h)        400        400      0.198      0.715      0.203      0.188\n",
      "  Speed limit (50km/h)        400        400      0.256      0.877      0.297      0.294\n",
      "  Speed limit (60km/h)        400        400      0.183      0.226      0.179      0.177\n",
      "  Speed limit (70km/h)        400        400      0.139      0.111      0.198      0.181\n",
      "  Speed limit (80km/h)        400        400      0.276       0.75      0.327      0.327\n",
      "End of speed limit (80km/h)        400        400      0.503          1      0.943      0.932\n",
      " Speed limit (100km/h)        400        400      0.229      0.552      0.223      0.212\n",
      " Speed limit (120km/h)        400        400      0.311      0.767      0.342      0.336\n",
      "            No passing        400        400       0.61      0.752      0.757      0.757\n",
      "No passing veh over 3.5 tons        400        400      0.427      0.833      0.604      0.604\n",
      "Right-of-way at intersection        400        400     0.0827      0.843      0.117      0.067\n",
      "         Priority road        400        400      0.627          1      0.992      0.975\n",
      "                 Yield        400        400      0.952      0.973      0.984      0.968\n",
      "                  Stop        400        400      0.873      0.996      0.995      0.991\n",
      "           No vehicles        400        400      0.537          1      0.989      0.983\n",
      "Veh > 3.5 tons prohibited        400        400      0.483      0.915      0.746      0.745\n",
      "              No entry        400        400      0.874          1      0.993      0.985\n",
      "       General caution        400        400     0.0574      0.507     0.0677     0.0412\n",
      "  Dangerous curve left        400        400     0.0816      0.877      0.103     0.0593\n",
      " Dangerous curve right        400        400     0.0555       0.52     0.0753     0.0551\n",
      "          Double curve        400        400     0.0857      0.902      0.128     0.0754\n",
      "            Bumpy road        400        400     0.0693      0.782     0.0736     0.0422\n",
      "         Slippery road        400        400     0.0651      0.728     0.0701     0.0419\n",
      "Road narrows on the right        400        400      0.075      0.792     0.0768     0.0445\n",
      "             Road work        400        400     0.0513      0.618     0.0659     0.0402\n",
      "       Traffic signals        400        400     0.0751      0.938      0.116     0.0663\n",
      "           Pedestrians        400        400     0.0784      0.948      0.102     0.0579\n",
      "     Children crossing        400        400     0.0755      0.862     0.0773     0.0445\n",
      "     Bicycles crossing        400        400      0.061      0.695     0.0688     0.0422\n",
      "    Beware of ice/snow        400        400     0.0473      0.578      0.067     0.0464\n",
      " Wild animals crossing        400        400     0.0785      0.893     0.0891     0.0516\n",
      "End speed + passing limits        400        400      0.279          1       0.72      0.715\n",
      "      Turn right ahead        400        400       0.25      0.812      0.375      0.372\n",
      "       Turn left ahead        400        400      0.314      0.234      0.295      0.292\n",
      "            Ahead only        400        400      0.179      0.593      0.223      0.216\n",
      "  Go straight or right        400        400      0.264        0.7      0.255      0.253\n",
      "   Go straight or left        400        400      0.301      0.823      0.347      0.344\n",
      "            Keep right        400        400      0.228      0.258      0.197      0.195\n",
      "             Keep left        400        400      0.201       0.65      0.199      0.197\n",
      "  Roundabout mandatory        400        400      0.254      0.655      0.443      0.442\n",
      "     End of no passing        400        400       0.36      0.897      0.455      0.455\n",
      "End no passing veh > 3.5 tons        400        400      0.416      0.695      0.402        0.4\n",
      "Speed: 0.1ms preprocess, 2.9ms inference, 0.0ms loss, 0.6ms postprocess per image\n",
      "Results saved to \u001b[1mD:\\AI-MachineLearning\\Ml-project\\runs\\detect\\train312\u001b[0m\n"
     ]
    }
   ],
   "source": [
    "metrics = model.val()\n"
   ]
  },
  {
   "cell_type": "code",
   "execution_count": null,
   "metadata": {
    "trusted": true
   },
   "outputs": [],
   "source": []
  },
  {
   "cell_type": "code",
   "execution_count": null,
   "metadata": {
    "trusted": true
   },
   "outputs": [],
   "source": []
  },
  {
   "cell_type": "code",
   "execution_count": null,
   "metadata": {
    "trusted": true
   },
   "outputs": [],
   "source": []
  },
  {
   "cell_type": "code",
   "execution_count": null,
   "metadata": {
    "trusted": true
   },
   "outputs": [],
   "source": []
  }
 ],
 "metadata": {
  "kaggle": {
   "accelerator": "nvidiaTeslaT4",
   "dataSources": [
    {
     "datasetId": 82373,
     "sourceId": 191501,
     "sourceType": "datasetVersion"
    }
   ],
   "dockerImageVersionId": 31090,
   "isGpuEnabled": true,
   "isInternetEnabled": true,
   "language": "python",
   "sourceType": "notebook"
  },
  "kernelspec": {
   "display_name": "venv",
   "language": "python",
   "name": "python3"
  },
  "language_info": {
   "codemirror_mode": {
    "name": "ipython",
    "version": 3
   },
   "file_extension": ".py",
   "mimetype": "text/x-python",
   "name": "python",
   "nbconvert_exporter": "python",
   "pygments_lexer": "ipython3",
   "version": "3.13.5"
  }
 },
 "nbformat": 4,
 "nbformat_minor": 4
}
